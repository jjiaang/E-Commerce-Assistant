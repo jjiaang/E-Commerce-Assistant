{
 "cells": [
  {
   "cell_type": "code",
   "execution_count": null,
   "id": "9233b2a6",
   "metadata": {},
   "outputs": [],
   "source": [
    "# https://www.analyticsvidhya.com/blog/2021/06/vader-for-sentiment-analysis/\n",
    "# https://github.com/cjhutto/vaderSentiment\n",
    "from vaderSentiment.vaderSentiment import SentimentIntensityAnalyzer\n",
    "from tensorflow import keras\n",
    "from tensorflow.keras.models import load_model\n",
    "from sklearn.feature_extraction.text import CountVectorizer\n",
    "import random\n",
    "import numpy as np\n",
    "import string\n",
    "import nltk\n",
    "import numpy\n",
    "import json\n",
    "import pandas as pd\n",
    "from nltk.stem import WordNetLemmatizer\n",
    "from sklearn.feature_extraction.text import CountVectorizer\n",
    "import pandas as pd\n",
    "import sklearn\n",
    "import string\n",
    "from sklearn.tree import DecisionTreeClassifier\n",
    "from sklearn.model_selection import GridSearchCV, StratifiedKFold\n",
    "from sklearn.metrics import precision_score, recall_score\n",
    "from sklearn.feature_extraction.text import CountVectorizer\n",
    "from scipy.stats import randint\n",
    "from sklearn.model_selection import train_test_split\n",
    "from sklearn.feature_extraction.text import ENGLISH_STOP_WORDS\n",
    "lemmatizer = WordNetLemmatizer()\n",
    "\n",
    "def generateSentimentScore(text):\n",
    "    analyzer = SentimentIntensityAnalyzer()\n",
    "    \n",
    "    scores = (analyzer.polarity_scores(text))\n",
    "    positiveScore = scores['pos'] * 100\n",
    "    negativeScore = scores['neg'] * 100\n",
    "    neutralScore = scores['neu'] * 100\n",
    "    \n",
    "    if scores['compound'] >= 0.05:\n",
    "        return (\"Positive\",positiveScore)\n",
    "    elif scores['compound'] <= -0.05:\n",
    "        return (\"Negative\", negativeScore)\n",
    "    else:\n",
    "        return (\"Neutral\", neutralScore)"
   ]
  },
  {
   "cell_type": "code",
   "execution_count": 4,
   "id": "23c22bc6",
   "metadata": {},
   "outputs": [],
   "source": [
    "model = load_model('chatbot_WIP.h5')"
   ]
  },
  {
   "cell_type": "code",
   "execution_count": 47,
   "id": "53618c62",
   "metadata": {},
   "outputs": [
    {
     "name": "stdout",
     "output_type": "stream",
     "text": [
      "[{'tag': '(0,Neutral)', 'responses': ['Hello', 'Hi there']}, {'tag': '(0,Positive)', 'responses': ['Hello!!!!!!']}, {'tag': '(0,Negative)', 'responses': ['Hello :(']}]\n"
     ]
    }
   ],
   "source": [
    "f = open('intents.json', 'r')\n",
    "responses = json.load(f)\n",
    "patterns = responses['patterns']\n",
    "print(responses['patterns'])"
   ]
  },
  {
   "cell_type": "code",
   "execution_count": null,
   "id": "4f00b81b",
   "metadata": {},
   "outputs": [],
   "source": [
    "f = open(\"vocabulary.txt\", \"r\")\n",
    "vocab = f.read()\n",
    "vocab = vocab[1:-1].replace('\"','')\n",
    "vocab = vocab.split(\",\")\n",
    "print(len(vocab))\n",
    "vect = CountVectorizer()\n",
    "vect.fit(vocab)"
   ]
  },
  {
   "cell_type": "code",
   "execution_count": 6,
   "id": "7fce2c28",
   "metadata": {},
   "outputs": [],
   "source": [
    "def clean(doc): # doc is a string of text\n",
    "    doc = \"\".join([char for char in doc if char not in string.punctuation and not char.isdigit()])\n",
    "    doc = \" \".join([lemmatizer.lemmatize(word.lower()) for word in doc.split()])\n",
    "    # remove punctuation and numbers\n",
    "    return doc\n",
    "\n",
    "def convertToBOW(text):\n",
    "    text = clean(text)\n",
    "    text = [text]\n",
    "    textV = vect.transform(text)\n",
    "    return textV"
   ]
  },
  {
   "cell_type": "code",
   "execution_count": 7,
   "id": "f24e1dd4",
   "metadata": {},
   "outputs": [],
   "source": [
    "model = load_model('chatbot_WIP.h5')"
   ]
  },
  {
   "cell_type": "code",
   "execution_count": 49,
   "id": "cf14b216",
   "metadata": {},
   "outputs": [],
   "source": [
    "def loadResponse(responseTuple):\n",
    "    \n",
    "    predictions, sentiment = responseTuple[0], responseTuple[1]\n",
    "    \n",
    "    predictionsIndex = np.argmax((predictions[0]))\n",
    "    sentimentPNN = sentiment[0]\n",
    "    \n",
    "    for jsons in patterns:\n",
    "        if jsons['tag'] == '(' + str(predictionsIndex) + \",\" + str(sentimentPNN) + \")\":\n",
    "            return jsons['responses'][0]"
   ]
  },
  {
   "cell_type": "code",
   "execution_count": null,
   "id": "7a72338f",
   "metadata": {},
   "outputs": [
    {
     "name": "stdout",
     "output_type": "stream",
     "text": [
      "Enter Text Here: \n",
      "Hello\n",
      "1/1 [==============================] - 0s 15ms/step\n",
      "['Hello', 'Hi there']\n",
      "Enter Text Here: \n"
     ]
    }
   ],
   "source": [
    "while True:\n",
    "    print(\"Enter Text Here: \")\n",
    "    userInput = input()\n",
    "    if userInput == \"NAN\":\n",
    "        break\n",
    "    textVec = convertToBOW(userInput)\n",
    "    predictions = model.predict(textVec)\n",
    "    sentimentScore = generateSentimentScore(userInput)\n",
    "    print(loadResponse((predictions,sentimentScore)))"
   ]
  },
  {
   "cell_type": "code",
   "execution_count": null,
   "id": "cf6cdccd",
   "metadata": {},
   "outputs": [],
   "source": []
  }
 ],
 "metadata": {
  "kernelspec": {
   "display_name": "Python 3 (ipykernel)",
   "language": "python",
   "name": "python3"
  },
  "language_info": {
   "codemirror_mode": {
    "name": "ipython",
    "version": 3
   },
   "file_extension": ".py",
   "mimetype": "text/x-python",
   "name": "python",
   "nbconvert_exporter": "python",
   "pygments_lexer": "ipython3",
   "version": "3.9.13"
  }
 },
 "nbformat": 4,
 "nbformat_minor": 5
}
