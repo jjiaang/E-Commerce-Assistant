{
 "cells": [
  {
   "cell_type": "code",
   "execution_count": 1,
   "id": "9233b2a6",
   "metadata": {},
   "outputs": [],
   "source": [
    "# https://www.analyticsvidhya.com/blog/2021/06/vader-for-sentiment-analysis/\n",
    "# https://github.com/cjhutto/vaderSentiment\n",
    "from vaderSentiment.vaderSentiment import SentimentIntensityAnalyzer\n",
    "from tensorflow import keras\n",
    "from tensorflow.keras.models import load_model\n",
    "from sklearn.feature_extraction.text import CountVectorizer\n",
    "import random\n",
    "import numpy as np\n",
    "import string\n",
    "import nltk\n",
    "import numpy\n",
    "import json\n",
    "import pandas as pd\n",
    "from nltk.stem import WordNetLemmatizer\n",
    "from sklearn.feature_extraction.text import CountVectorizer\n",
    "import pandas as pd\n",
    "import sklearn\n",
    "import string\n",
    "from sklearn.tree import DecisionTreeClassifier\n",
    "from sklearn.model_selection import GridSearchCV, StratifiedKFold\n",
    "from sklearn.metrics import precision_score, recall_score\n",
    "from sklearn.feature_extraction.text import CountVectorizer\n",
    "from scipy.stats import randint\n",
    "from sklearn.model_selection import train_test_split\n",
    "from sklearn.feature_extraction.text import ENGLISH_STOP_WORDS\n",
    "lemmatizer = WordNetLemmatizer()\n",
    "\n",
    "def generateSentimentScore(text):\n",
    "    analyzer = SentimentIntensityAnalyzer()\n",
    "    \n",
    "    scores = (analyzer.polarity_scores(text))\n",
    "    positiveScore = scores['pos'] * 100\n",
    "    negativeScore = scores['neg'] * 100\n",
    "    neutralScore = scores['neu'] * 100\n",
    "    \n",
    "    if scores['compound'] >= 0.05:\n",
    "        return (\"Positive\",positiveScore)\n",
    "    elif scores['compound'] <= -0.05:\n",
    "        return (\"Negative\", negativeScore)\n",
    "    else:\n",
    "        return (\"Neutral\", neutralScore)"
   ]
  },
  {
   "cell_type": "code",
   "execution_count": 2,
   "id": "23c22bc6",
   "metadata": {},
   "outputs": [],
   "source": [
    "model = load_model('chatbot_WIP.h5')"
   ]
  },
  {
   "cell_type": "code",
   "execution_count": 3,
   "id": "6de5053e",
   "metadata": {},
   "outputs": [
    {
     "name": "stdout",
     "output_type": "stream",
     "text": [
      "[{'tag': '(0,Neutral)', 'responses': ['Hello', 'Hi there']}, {'tag': '(0,Positive)', 'responses': ['Hello!!!!!!']}, {'tag': '(0,Negative)', 'responses': ['Hello :(']}, {'tag': '(1,Neutral)', 'responses': [\"You're welcome. Thank you for visiting our website.\"]}, {'tag': '(1,Positive)', 'responses': ['No problem! Have a great day :)']}, {'tag': '(1,Negative)', 'responses': ['Bye :|']}, {'tag': '(2,Neutral)', 'responses': ['We sell Baseball Gear and baseball related items.']}, {'tag': '(2,Positive)', 'responses': ['We sell baseball gear! Alongside with baseball related items, our store is perfect for you.']}, {'tag': '(2,Negative)', 'responses': ['Baseball stuff. Thats it.']}, {'tag': '(3,Neutral)', 'responses': ['Shipping times are roughly 2 weeks. You can expect a confirmation email with details about your order when you order.']}, {'tag': '(3,Positive)', 'responses': ['Glad you asked. Shipping times are roughly 2 weeks from when you place your order. Your email will have a confirmation with details about your order. It might arrive earlier than expected ;)']}, {'tag': '(3,Negative)', 'responses': ['It takes 2 weeks to ship, check your email for further details. If it takes longer, then its not our problem.']}, {'tag': '(4,Neutral)', 'responses': ['We accept all credit cards.']}, {'tag': '(4,Positive)', 'responses': ['Hi there! We accept all forms of credit cards. If your credit card is not on there, contact us and we can help sort things out!']}, {'tag': '(4,Negative)', 'responses': [\"We accept all credit cards. It's literally on the FAQ's.\"]}, {'tag': '(5,Neutral)', 'responses': ['Yes Refunds are accepted within 30 days of purchase for an unopened, undamaged item.']}, {'tag': '(5,Positive)', 'responses': [\"Refunds are accepted within 30 days usually of a purchase for an unopened, and undamaged item. However if you did open it or anything, we'll see what we can do, no worries!\"]}, {'tag': '(5,Negative)', 'responses': [\"Refunds are accepted within 30 days of purchase. Read the FAQ's.\"]}]\n"
     ]
    }
   ],
   "source": [
    "f = open('intents.json', 'r')\n",
    "responses = json.load(f)\n",
    "patterns = responses['patterns']\n",
    "print(responses['patterns'])"
   ]
  },
  {
   "cell_type": "code",
   "execution_count": 4,
   "id": "4f00b81b",
   "metadata": {},
   "outputs": [
    {
     "name": "stdout",
     "output_type": "stream",
     "text": [
      "271\n"
     ]
    },
    {
     "data": {
      "text/plain": [
       "CountVectorizer()"
      ]
     },
     "execution_count": 4,
     "metadata": {},
     "output_type": "execute_result"
    }
   ],
   "source": [
    "f = open(\"vocabulary.txt\", \"r\")\n",
    "vocab = f.read()\n",
    "vocab = vocab[1:-1].replace('\"','')\n",
    "vocab = vocab.split(\",\")\n",
    "print(len(vocab))\n",
    "vect = CountVectorizer()\n",
    "vect.fit(vocab)"
   ]
  },
  {
   "cell_type": "code",
   "execution_count": 5,
   "id": "7fce2c28",
   "metadata": {},
   "outputs": [],
   "source": [
    "def clean(doc): # doc is a string of text\n",
    "    doc = \"\".join([char for char in doc if char not in string.punctuation and not char.isdigit()])\n",
    "    doc = \" \".join([lemmatizer.lemmatize(word.lower()) for word in doc.split()])\n",
    "    # remove punctuation and numbers\n",
    "    return doc\n",
    "\n",
    "def convertToBOW(text):\n",
    "    text = clean(text)\n",
    "    text = [text]\n",
    "    textV = vect.transform(text)\n",
    "    return textV"
   ]
  },
  {
   "cell_type": "code",
   "execution_count": 6,
   "id": "f24e1dd4",
   "metadata": {},
   "outputs": [],
   "source": [
    "model = load_model('chatbot_WIP.h5')"
   ]
  },
  {
   "cell_type": "code",
   "execution_count": 7,
   "id": "6f99aefc",
   "metadata": {},
   "outputs": [],
   "source": [
    "def loadResponse(responseTuple):\n",
    "    \n",
    "    predictions, sentiment = responseTuple[0], responseTuple[1]\n",
    "    \n",
    "    predictionsIndex = np.argmax((predictions[0]))\n",
    "    sentimentPNN = sentiment[0]\n",
    "    \n",
    "    for jsons in patterns:\n",
    "        if jsons['tag'] == '(' + str(predictionsIndex) + \",\" + str(sentimentPNN) + \")\":\n",
    "            return random.choice(jsons['responses'])"
   ]
  },
  {
   "cell_type": "code",
   "execution_count": null,
   "id": "7a72338f",
   "metadata": {},
   "outputs": [
    {
     "name": "stdout",
     "output_type": "stream",
     "text": [
      "Enter Text Here: \n",
      "Hello\n",
      "1/1 [==============================] - 0s 262ms/step\n",
      "Hello\n",
      "Enter Text Here: \n",
      "Hi there! How are you my friend\n",
      "1/1 [==============================] - 0s 13ms/step\n",
      "Hello!!!!!!\n",
      "Enter Text Here: \n",
      "I hate this place, but hello\n",
      "1/1 [==============================] - 0s 11ms/step\n",
      "Hello :(\n",
      "Enter Text Here: \n",
      "Thank you for your time today\n",
      "1/1 [==============================] - 0s 12ms/step\n",
      "No problem! Have a great day :)\n",
      "Enter Text Here: \n",
      "Whatever... thanks I guess?\n",
      "1/1 [==============================] - 0s 12ms/step\n",
      "No problem! Have a great day :)\n",
      "Enter Text Here: \n",
      "You're so useless and not helpful, you are not receiving my thanks.\n",
      "1/1 [==============================] - 0s 10ms/step\n",
      "Bye :|\n",
      "Enter Text Here: \n",
      "So what do you guys sell here?\n",
      "1/1 [==============================] - 0s 11ms/step\n",
      "Hi there\n",
      "Enter Text Here: \n",
      "What items are for sale?\n",
      "1/1 [==============================] - 0s 9ms/step\n",
      "Yes Refunds are accepted within 30 days of purchase for an unopened, undamaged item.\n",
      "Enter Text Here: \n",
      "What products do you sell?\n",
      "1/1 [==============================] - 0s 11ms/step\n",
      "We sell Baseball Gear and baseball related items.\n",
      "Enter Text Here: \n",
      "Hi friend! I can't find it, but what do you sell?\n",
      "1/1 [==============================] - 0s 12ms/step\n",
      "Hello!!!!!!\n",
      "Enter Text Here: \n",
      "Hi friend! I can't find it, but what products do you sell?\n",
      "1/1 [==============================] - 0s 12ms/step\n",
      "We sell baseball gear! Alongside with baseball related items, our store is perfect for you.\n",
      "Enter Text Here: \n",
      "This website is so stupid and ugly, what products do you sell? I can't find it\n",
      "1/1 [==============================] - 0s 13ms/step\n",
      "We accept all credit cards. It's literally on the FAQ's.\n",
      "Enter Text Here: \n",
      "Can i get a refund\n",
      "1/1 [==============================] - 0s 12ms/step\n",
      "Yes Refunds are accepted within 30 days of purchase for an unopened, undamaged item.\n",
      "Enter Text Here: \n",
      "Hi there friend may I please get a refund\n",
      "1/1 [==============================] - 0s 13ms/step\n",
      "Hello!!!!!!\n",
      "Enter Text Here: \n",
      "My friend may I please get a refund\n",
      "1/1 [==============================] - 0s 12ms/step\n",
      "Refunds are accepted within 30 days usually of a purchase for an unopened, and undamaged item. However if you did open it or anything, we'll see what we can do, no worries!\n",
      "Enter Text Here: \n",
      "This item is so shit i demand a refund\n",
      "1/1 [==============================] - 0s 13ms/step\n",
      "Refunds are accepted within 30 days of purchase. Read the FAQ's.\n",
      "Enter Text Here: \n"
     ]
    }
   ],
   "source": [
    "while True:\n",
    "    print(\"Enter Text Here: \")\n",
    "    userInput = input()\n",
    "    if userInput == \"QUIT\":\n",
    "        break\n",
    "    textVec = convertToBOW(userInput)\n",
    "    predictions = model.predict(textVec)\n",
    "    sentimentScore = generateSentimentScore(userInput)\n",
    "    print(loadResponse((predictions,sentimentScore)))"
   ]
  },
  {
   "cell_type": "code",
   "execution_count": null,
   "id": "cf6cdccd",
   "metadata": {},
   "outputs": [],
   "source": []
  },
  {
   "cell_type": "code",
   "execution_count": null,
   "id": "b501a786",
   "metadata": {},
   "outputs": [],
   "source": []
  }
 ],
 "metadata": {
  "kernelspec": {
   "display_name": "Python 3 (ipykernel)",
   "language": "python",
   "name": "python3"
  },
  "language_info": {
   "codemirror_mode": {
    "name": "ipython",
    "version": 3
   },
   "file_extension": ".py",
   "mimetype": "text/x-python",
   "name": "python",
   "nbconvert_exporter": "python",
   "pygments_lexer": "ipython3",
   "version": "3.9.13"
  }
 },
 "nbformat": 4,
 "nbformat_minor": 5
}
